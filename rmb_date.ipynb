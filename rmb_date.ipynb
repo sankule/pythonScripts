{
 "cells": [
  {
   "cell_type": "markdown",
   "id": "1703ee0c",
   "metadata": {},
   "source": [
    "# rmb Date"
   ]
  },
  {
   "cell_type": "code",
   "execution_count": null,
   "id": "63e2f00f",
   "metadata": {},
   "outputs": [],
   "source": [
    "\n",
    "#original date\n",
    "rumble_df['s_date_org'] = rumble_df['s_date']\n",
    "rumble_df['s_date'] = pd.to_datetime(rumble_df['s_date']).dt.date\n",
    "\n",
    "#previous day\n",
    "rumble_df['s_date_pd'] = rumble_df['s_date'] - pd.DateOffset(days=1) \n",
    "rumble_df['s_date_pd'] = rumble_df['s_date_pd'].dt.date\n",
    "\n",
    "# USER AGE\n",
    "rumble_df['authorized_date'] = pd.to_datetime(rumble_df['authorized_date']).dt.date\n",
    "rumble_df['D_user_age'] = (rumble_df['s_date'].max() - rumble_df['authorized_date']).astype('timedelta64[D]')"
   ]
  }
 ],
 "metadata": {
  "kernelspec": {
   "display_name": "Python 3 (ipykernel)",
   "language": "python",
   "name": "python3"
  },
  "language_info": {
   "codemirror_mode": {
    "name": "ipython",
    "version": 3
   },
   "file_extension": ".py",
   "mimetype": "text/x-python",
   "name": "python",
   "nbconvert_exporter": "python",
   "pygments_lexer": "ipython3",
   "version": "3.7.3"
  }
 },
 "nbformat": 4,
 "nbformat_minor": 5
}
