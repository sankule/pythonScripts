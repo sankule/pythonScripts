{
 "cells": [
  {
   "cell_type": "markdown",
   "id": "9b5474e4",
   "metadata": {},
   "source": [
    "### Save model object as Pickle => Write to S3 => Load in another instance | DATABRICKS\n",
    "-------"
   ]
  },
  {
   "cell_type": "code",
   "execution_count": null,
   "id": "5a4afb18",
   "metadata": {},
   "outputs": [],
   "source": [
    "# Import required libraries\n",
    "import xgboost as xgb\n",
    "import pickle\n",
    "import boto3"
   ]
  },
  {
   "cell_type": "code",
   "execution_count": null,
   "id": "c1d7e7d5",
   "metadata": {},
   "outputs": [],
   "source": [
    "# Train your XGBoost model\n",
    "xgb_model = xgb.train(params, dtrain)\n",
    "\n",
    "# Save the trained model as a pickle file to Databricks File System (DBFS)\n",
    "with open('/dbfs/path/to/model.pkl', 'wb') as f:\n",
    "    pickle.dump(xgb_model, f)\n",
    "\n",
    "# Upload the model to S3 bucket\n",
    "s3 = boto3.resource('s3')\n",
    "s3.Bucket('your-s3-bucket-name').upload_file('/dbfs/path/to/model.pkl', 'model.pkl')"
   ]
  },
  {
   "cell_type": "markdown",
   "id": "17491e79",
   "metadata": {},
   "source": [
    "-------"
   ]
  },
  {
   "cell_type": "code",
   "execution_count": null,
   "id": "aabc8df5",
   "metadata": {},
   "outputs": [],
   "source": [
    "# Load the model from S3 bucket\n",
    "s3_client = boto3.client('s3')\n",
    "s3_client.download_file('your-s3-bucket-name', 'model.pkl', '/dbfs/path/to/model.pkl')\n",
    "\n",
    "# Load the saved model from DBFS\n",
    "with open('/dbfs/path/to/model.pkl', 'rb') as f:\n",
    "    xgb_model = pickle.load(f)\n",
    "\n",
    "# Use the loaded model for inference\n",
    "y_pred = xgb_model.predict(X_test)"
   ]
  },
  {
   "cell_type": "markdown",
   "id": "f58fa9b3",
   "metadata": {},
   "source": [
    "-------"
   ]
  }
 ],
 "metadata": {
  "kernelspec": {
   "display_name": "Python 3 (ipykernel)",
   "language": "python",
   "name": "python3"
  },
  "language_info": {
   "codemirror_mode": {
    "name": "ipython",
    "version": 3
   },
   "file_extension": ".py",
   "mimetype": "text/x-python",
   "name": "python",
   "nbconvert_exporter": "python",
   "pygments_lexer": "ipython3",
   "version": "3.7.3"
  }
 },
 "nbformat": 4,
 "nbformat_minor": 5
}
