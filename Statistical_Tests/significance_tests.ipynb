{
 "cells": [
  {
   "cell_type": "code",
   "execution_count": 75,
   "id": "ce3df59d",
   "metadata": {},
   "outputs": [],
   "source": [
    "import pandas as pd\n",
    "import numpy as np\n",
    "from scipy.stats import mannwhitneyu\n",
    "\n",
    "from IPython.core.interactiveshell import InteractiveShell\n",
    "InteractiveShell.ast_node_interactivity = \"all\""
   ]
  },
  {
   "cell_type": "markdown",
   "id": "c66fb40c",
   "metadata": {},
   "source": [
    "-------\n",
    "## Mann-Whitney U / Wilcoxon rank-sum Test"
   ]
  },
  {
   "cell_type": "code",
   "execution_count": 77,
   "id": "2b3dbfb2",
   "metadata": {},
   "outputs": [
    {
     "data": {
      "text/html": [
       "<div>\n",
       "<style scoped>\n",
       "    .dataframe tbody tr th:only-of-type {\n",
       "        vertical-align: middle;\n",
       "    }\n",
       "\n",
       "    .dataframe tbody tr th {\n",
       "        vertical-align: top;\n",
       "    }\n",
       "\n",
       "    .dataframe thead th {\n",
       "        text-align: right;\n",
       "    }\n",
       "</style>\n",
       "<table border=\"1\" class=\"dataframe\">\n",
       "  <thead>\n",
       "    <tr style=\"text-align: right;\">\n",
       "      <th></th>\n",
       "      <th>control</th>\n",
       "      <th>test</th>\n",
       "    </tr>\n",
       "  </thead>\n",
       "  <tbody>\n",
       "    <tr>\n",
       "      <th>count</th>\n",
       "      <td>100000.000000</td>\n",
       "      <td>100000.000000</td>\n",
       "    </tr>\n",
       "    <tr>\n",
       "      <th>mean</th>\n",
       "      <td>76.068932</td>\n",
       "      <td>76.181621</td>\n",
       "    </tr>\n",
       "    <tr>\n",
       "      <th>std</th>\n",
       "      <td>20.228324</td>\n",
       "      <td>20.203167</td>\n",
       "    </tr>\n",
       "    <tr>\n",
       "      <th>min</th>\n",
       "      <td>41.000008</td>\n",
       "      <td>41.200313</td>\n",
       "    </tr>\n",
       "    <tr>\n",
       "      <th>25%</th>\n",
       "      <td>58.498612</td>\n",
       "      <td>58.742249</td>\n",
       "    </tr>\n",
       "    <tr>\n",
       "      <th>50%</th>\n",
       "      <td>76.192124</td>\n",
       "      <td>76.146756</td>\n",
       "    </tr>\n",
       "    <tr>\n",
       "      <th>75%</th>\n",
       "      <td>93.581554</td>\n",
       "      <td>93.674017</td>\n",
       "    </tr>\n",
       "    <tr>\n",
       "      <th>max</th>\n",
       "      <td>110.998437</td>\n",
       "      <td>111.199699</td>\n",
       "    </tr>\n",
       "  </tbody>\n",
       "</table>\n",
       "</div>"
      ],
      "text/plain": [
       "             control           test\n",
       "count  100000.000000  100000.000000\n",
       "mean       76.068932      76.181621\n",
       "std        20.228324      20.203167\n",
       "min        41.000008      41.200313\n",
       "25%        58.498612      58.742249\n",
       "50%        76.192124      76.146756\n",
       "75%        93.581554      93.674017\n",
       "max       110.998437     111.199699"
      ]
     },
     "execution_count": 77,
     "metadata": {},
     "output_type": "execute_result"
    },
    {
     "name": "stdout",
     "output_type": "stream",
     "text": [
      "Statistic: 4983920433.0\n",
      "p-value: 0.10647129824742446\n",
      "Fail to reject null hypothesis: Test revenue is not significantly higher than control revenue\n"
     ]
    }
   ],
   "source": [
    "test_df = pd.DataFrame({\n",
    "                        'control': 76 + np.random.uniform(-35, 35, 100000),\n",
    "                        'test': 76.2 + np.random.uniform(-35, 35, 100000)\n",
    "                       })\n",
    "\n",
    "test_df.describe()\n",
    "\n",
    "# Perform the Mann-Whitney U-test\n",
    "statistic, pvalue = mannwhitneyu(test_df['control'], test_df['test'], \n",
    "                                             alternative='less')\n",
    "\n",
    "# Print the results\n",
    "print(\"Statistic:\", statistic)\n",
    "print(\"p-value:\", pvalue)\n",
    "\n",
    "# Interpret the results\n",
    "alpha = 0.05\n",
    "if pvalue < alpha:\n",
    "    print(\"Reject null hypothesis: Test revenue is significantly higher than control revenue\")\n",
    "else:\n",
    "    print(\"Fail to reject null hypothesis: Test revenue is not significantly higher than control revenue\")"
   ]
  },
  {
   "cell_type": "code",
   "execution_count": null,
   "id": "d2d379b7",
   "metadata": {},
   "outputs": [],
   "source": []
  }
 ],
 "metadata": {
  "kernelspec": {
   "display_name": "Python 3 (ipykernel)",
   "language": "python",
   "name": "python3"
  },
  "language_info": {
   "codemirror_mode": {
    "name": "ipython",
    "version": 3
   },
   "file_extension": ".py",
   "mimetype": "text/x-python",
   "name": "python",
   "nbconvert_exporter": "python",
   "pygments_lexer": "ipython3",
   "version": "3.7.3"
  }
 },
 "nbformat": 4,
 "nbformat_minor": 5
}
