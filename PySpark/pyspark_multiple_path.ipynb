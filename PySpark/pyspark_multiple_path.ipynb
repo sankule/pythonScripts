{
 "cells": [
  {
   "cell_type": "markdown",
   "id": "df4ca866",
   "metadata": {},
   "source": [
    "# Extract Data from multiple path as LIST"
   ]
  },
  {
   "cell_type": "markdown",
   "id": "b48503cd",
   "metadata": {},
   "source": [
    "-------"
   ]
  },
  {
   "cell_type": "code",
   "execution_count": null,
   "id": "0a8a5c26",
   "metadata": {},
   "outputs": [],
   "source": [
    "def offer_info_df(ids_list):\n",
    "    ids_list = list(ids_list)\n",
    "    basePath='<BUCKET>'\n",
    "    paths = []\n",
    "    for ids in ids_list:\n",
    "        paths.append('s3a://<BUCKET>/campaignid='+ids)\n",
    "    offer = spark.read.option(\"basePath\",basePath).parquet(*paths)\n",
    "    offer.createOrReplaceTempView(\"offer\")\n",
    "    query = spark.sql(\"\"\"select datevar, playerid, path, triggername,offertype, offername, offercount, triggertype, triggertimelatest, campaignid, logdate    \n",
    "                         from offer\"\"\").createOrReplaceTempView(\"offer\")"
   ]
  },
  {
   "cell_type": "markdown",
   "id": "b8a2c9c7",
   "metadata": {},
   "source": [
    "-------"
   ]
  }
 ],
 "metadata": {
  "kernelspec": {
   "display_name": "Python 3 (ipykernel)",
   "language": "python",
   "name": "python3"
  },
  "language_info": {
   "codemirror_mode": {
    "name": "ipython",
    "version": 3
   },
   "file_extension": ".py",
   "mimetype": "text/x-python",
   "name": "python",
   "nbconvert_exporter": "python",
   "pygments_lexer": "ipython3",
   "version": "3.7.3"
  }
 },
 "nbformat": 4,
 "nbformat_minor": 5
}
